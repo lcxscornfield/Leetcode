{
 "cells": [
  {
   "cell_type": "markdown",
   "metadata": {},
   "source": [
    "## 分治法的设计思想：\n",
    "---\n",
    "将一个难以直接解决的大问题，分割成一些规模较小的相同问题，以便各个击破，分而治之。\n",
    "\n",
    "step1 分解：将原问题分解为若干个规模较小，相互独立，与原问题形式相同的子问题；\n",
    "\n",
    "step2 解决：若子问题规模较小而容易被解决则直接解，否则递归地解各个子问题\n",
    "\n",
    "step3 合并：将各个子问题的解合并为原问题的解。"
   ]
  },
  {
   "cell_type": "markdown",
   "metadata": {},
   "source": [
    "## 241. 为运算表达式设计优先级\n",
    "---\n",
    "链接：https://leetcode-cn.com/problems/different-ways-to-add-parentheses/\n",
    "\n",
    "一个字符串包含数字和运算符（ + , - , * ),给表达式加括号求所有的输出可能性：\n",
    "\n",
    "example:\n",
    "```\n",
    "输入: \"2-1-1\"\n",
    "输出: [0, 2]\n",
    "解释: \n",
    "((2-1)-1) = 0 \n",
    "(2-(1-1)) = 2\n",
    "```\n",
    "### 解题思路\n",
    "1. input.isdigit:如果只有数字,直接返回。\n",
    "2. 每碰到一个运算符就进行一次迭代\n",
    "2. 迭代：self.diffWaysToCompute\n",
    "\n",
    "### 代码\n",
    "\n",
    "```python\n",
    "class Solution(object):\n",
    "    def diffWaysToCompute(self, input):\n",
    "        if input.isdigit():\n",
    "            return [int(input)]\n",
    "        res = []\n",
    "        for i in range(len(input)):\n",
    "            if input[i] == '+':\n",
    "                res.extend([l + r for l in self.diffWaysToCompute(input[:i]) for r in self.diffWaysToCompute(input[i+1:])])\n",
    "            elif input[i] == '-':\n",
    "                res.extend([l - r for l in self.diffWaysToCompute(input[:i]) for r in self.diffWaysToCompute(input[i+1:])])\n",
    "            elif input[i] == '*':\n",
    "                res.extend([l * r for l in self.diffWaysToCompute(input[:i]) for r in self.diffWaysToCompute(input[i+1:])])\n",
    "        return res\n",
    "```\n"
   ]
  }
 ],
 "metadata": {
  "kernelspec": {
   "display_name": "Python 2",
   "language": "python",
   "name": "python2"
  },
  "language_info": {
   "codemirror_mode": {
    "name": "ipython",
    "version": 2
   },
   "file_extension": ".py",
   "mimetype": "text/x-python",
   "name": "python",
   "nbconvert_exporter": "python",
   "pygments_lexer": "ipython2",
   "version": "2.7.17"
  }
 },
 "nbformat": 4,
 "nbformat_minor": 2
}
