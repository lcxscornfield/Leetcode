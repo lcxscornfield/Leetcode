{
 "cells": [
  {
   "cell_type": "markdown",
   "metadata": {},
   "source": [
    "## 2020.7.22_阿里笔试\n",
    "---\n",
    "1. 给一个n<=10,按字典输出，相邻两个数字的绝对值差不为1。\n",
    "```\n",
    "输入：\n",
    "4\n",
    "输出：\n",
    "2 4 1 3\n",
    "3 1 4 2\n",
    "```"
   ]
  },
  {
   "cell_type": "code",
   "execution_count": null,
   "metadata": {},
   "outputs": [],
   "source": []
  },
  {
   "cell_type": "markdown",
   "metadata": {},
   "source": [
    "2. 第一行两个整数n,m。m<=n<=400000。第二行是长度为n的数组a，a_i<=n。计算a有多少个区间（子数组）满足：存在某个数字v，使得v在数组区间出现次数大于等于m。\n",
    "```\n",
    "输入：\n",
    "5 2\n",
    "1 2 1 2 5\n",
    "输出：\n",
    "5\n",
    "解释：区间[1,3][1,4][1,5][2,4][2,5]，要么1出现2次以上，要么2出现超过2次以上。\n",
    "```\n",
    "\n",
    "```\n",
    "用i固定右边界，用j去找左边界。对与[j:i]满足题设，有j往左的全部左边界都满足题设，一共有j+1个。我们要找的就是最右边的j。\n",
    "```"
   ]
  },
  {
   "cell_type": "code",
   "execution_count": 15,
   "metadata": {},
   "outputs": [
    {
     "name": "stdout",
     "output_type": "stream",
     "text": [
      "5\n"
     ]
    }
   ],
   "source": [
    "def cal(n,m,a):\n",
    "    ans = 0\n",
    "    pt = -1\n",
    "    pos = [[] for _ in range(n+111)]\n",
    "    for i in range(n):\n",
    "        v = a[i]\n",
    "        pos[v].append(i)\n",
    "        if len(pos[v]) >= m:\n",
    "            index = pos[v][-m]\n",
    "            pt = max(index,pt)\n",
    "        ans += pt+1\n",
    "    return ans\n",
    "\n",
    "if __name__ == '__main__':\n",
    "    n,m=5,2\n",
    "    a = [1,2,1,2,5]\n",
    "    print(cal(n,m,a))"
   ]
  },
  {
   "cell_type": "code",
   "execution_count": null,
   "metadata": {},
   "outputs": [],
   "source": []
  }
 ],
 "metadata": {
  "kernelspec": {
   "display_name": "Python 3",
   "language": "python",
   "name": "python3"
  },
  "language_info": {
   "codemirror_mode": {
    "name": "ipython",
    "version": 3
   },
   "file_extension": ".py",
   "mimetype": "text/x-python",
   "name": "python",
   "nbconvert_exporter": "python",
   "pygments_lexer": "ipython3",
   "version": "3.6.10"
  }
 },
 "nbformat": 4,
 "nbformat_minor": 4
}
