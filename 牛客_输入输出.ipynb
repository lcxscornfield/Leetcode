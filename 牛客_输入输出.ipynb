{
 "cells": [
  {
   "cell_type": "markdown",
   "metadata": {},
   "source": [
    "```\n",
    "import sys\n",
    "input = sys.stdin().readline()#逐行运行\n",
    "input = input.strip()#去除头尾，默认为空格或换行符\n",
    "input = input.split()#指定分割符，默认为所有的空字符，包括空格、换行(\\n)、制表符(\\t)等\n",
    "input = list(map(int,input))#转换input中元素为int，将数据转换为列表\n",
    "```"
   ]
  },
  {
   "cell_type": "markdown",
   "metadata": {},
   "source": [
    "## 1.计算a+b\n",
    "---\n",
    "```\n",
    "输入\n",
    "    1 5\n",
    "    10 20\n",
    "输出\n",
    "    6\n",
    "    30\n",
    "```"
   ]
  },
  {
   "cell_type": "code",
   "execution_count": 12,
   "metadata": {},
   "outputs": [],
   "source": [
    "import sys\n",
    "while True:\n",
    "    try:\n",
    "        number = sys.stdin.readline().strip()\n",
    "        number = number.split(\" \")\n",
    "        a = int(number[0])\n",
    "        b = int(number[1])\n",
    "        print(a+b)\n",
    "    except:\n",
    "        break"
   ]
  },
  {
   "cell_type": "markdown",
   "metadata": {},
   "source": [
    "## 2.计算\n"
   ]
  }
 ],
 "metadata": {
  "kernelspec": {
   "display_name": "Python 3",
   "language": "python",
   "name": "python3"
  },
  "language_info": {
   "codemirror_mode": {
    "name": "ipython",
    "version": 3
   },
   "file_extension": ".py",
   "mimetype": "text/x-python",
   "name": "python",
   "nbconvert_exporter": "python",
   "pygments_lexer": "ipython3",
   "version": "3.7.6"
  }
 },
 "nbformat": 4,
 "nbformat_minor": 4
}
