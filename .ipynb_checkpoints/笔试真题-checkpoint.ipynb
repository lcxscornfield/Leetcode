{
 "cells": [
  {
   "cell_type": "markdown",
   "metadata": {},
   "source": [
    "# 2020.7.22_阿里笔试\n",
    "---\n",
    "1. 给一个n<=10,按字典输出，相邻两个数字的绝对值差不为1。\n",
    "```\n",
    "输入：\n",
    "4\n",
    "输出：\n",
    "2 4 1 3\n",
    "3 1 4 2\n",
    "```"
   ]
  },
  {
   "cell_type": "code",
   "execution_count": null,
   "metadata": {},
   "outputs": [],
   "source": []
  },
  {
   "cell_type": "markdown",
   "metadata": {},
   "source": [
    "2. 第一行两个整数n,m。m<=n<=400000。第二行是长度为n的数组a，a_i<=n。计算a有多少个区间（子数组）满足：存在某个数字v，使得v在数组区间出现次数大于等于m。\n",
    "```\n",
    "输入：\n",
    "5 2\n",
    "1 2 1 2 5\n",
    "输出：\n",
    "5\n",
    "解释：区间[1,3][1,4][1,5][2,4][2,5]，要么1出现2次以上，要么2出现超过2次以上。\n",
    "```\n",
    "\n",
    "```\n",
    "用i固定右边界，用j去找左边界。对与[j:i]满足题设，有j往左的全部左边界都满足题设，一共有j+1个。我们要找的就是最右边的j。\n",
    "```"
   ]
  },
  {
   "cell_type": "code",
   "execution_count": 15,
   "metadata": {},
   "outputs": [
    {
     "name": "stdout",
     "output_type": "stream",
     "text": [
      "5\n"
     ]
    }
   ],
   "source": [
    "def cal(n,m,a):\n",
    "    ans = 0\n",
    "    pt = -1\n",
    "    pos = [[] for _ in range(n+111)]\n",
    "    for i in range(n):\n",
    "        v = a[i]\n",
    "        pos[v].append(i)\n",
    "        if len(pos[v]) >= m:\n",
    "            index = pos[v][-m]\n",
    "            pt = max(index,pt)\n",
    "        ans += pt+1\n",
    "    return ans\n",
    "\n",
    "if __name__ == '__main__':\n",
    "    n,m=5,2\n",
    "    a = [1,2,1,2,5]\n",
    "    print(cal(n,m,a))"
   ]
  },
  {
   "cell_type": "markdown",
   "metadata": {},
   "source": [
    "# 2020.8.6_京东笔试"
   ]
  },
  {
   "cell_type": "markdown",
   "metadata": {},
   "source": [
    "1. 第一题\n",
    "\n",
    "```\n",
    "时间限制： 300 0MS\n",
    "内存限制： 58982 4KB\n",
    "题目描述：\n",
    "X星人的基因由A、B、C、D、E五种不同的结构组合而成。\n",
    "如果两个性别不同的X星人的基因序列相似度大于50%，按照X星的法律他们是禁止结婚的，等于50%据说还是可以的。\n",
    "那么基因的相似度怎么计算呢？分别从两个人身上取长度均为N的基因片段，如果它们的最长公共子序列（注意，最长公共子序列不需要连续）的长度为M，则相似 度 = M /N。是不是很简单呢？\n",
    "现在给你两段X星人的基因序列片段，请你判断他们是不是可以结婚？\n",
    "\n",
    "输入描述\n",
    "单组输入。\n",
    "每一组测试数据包含3行：\n",
    "第1行数字N表示待比较基因序列片段的长度，N<=10^3。\n",
    "第2行和第3行为两个长度为N的基因序列片段，中间以空格隔开。\n",
    "```"
   ]
  },
  {
   "cell_type": "code",
   "execution_count": 2,
   "metadata": {},
   "outputs": [
    {
     "name": "stdout",
     "output_type": "stream",
     "text": [
      "0.33 Yes\n"
     ]
    }
   ],
   "source": [
    "def calP(n,A,B):\n",
    "    dp = [[0]*(n+1) for _ in range(n+1)]\n",
    "    for i in range(1,n+1):\n",
    "        for j in range(1,n+1):\n",
    "            if A[i-1] == B[j-1]:\n",
    "                dp[i][j]=dp[i-1][j-1]+1\n",
    "            else:\n",
    "                dp[i][j]=max(dp[i-1][j],dp[i][j-1])\n",
    "    x = dp[n][n]\n",
    "    P = float(format(x/n,'.2f'))\n",
    "    if P <= 0.5:\n",
    "        return(str(P)+' '+'Yes')\n",
    "    else:\n",
    "        return(str(P)+'No')\n",
    "\n",
    "#main\n",
    "if __name__ == '__main__':\n",
    "    n = 6\n",
    "    A = ['A', 'B', 'C', 'D', 'E', 'E']\n",
    "    B = ['A', 'E', 'D', 'C', 'B', 'B']\n",
    "    print(calP(n,A,B))"
   ]
  },
  {
   "cell_type": "markdown",
   "metadata": {},
   "source": [
    "2.回文素数\n",
    "\n",
    "```\n",
    "一个数，去掉一位后为回文素数，问[A,B]间有多少满足要求的数。\n",
    "输入110 120，返回10\n",
    "因为110,111,112,113,114,115,116,117,118,119这十个数都可以去掉一位变成回文素数\n",
    "```"
   ]
  }
 ],
 "metadata": {
  "kernelspec": {
   "display_name": "Python 3",
   "language": "python",
   "name": "python3"
  },
  "language_info": {
   "codemirror_mode": {
    "name": "ipython",
    "version": 3
   },
   "file_extension": ".py",
   "mimetype": "text/x-python",
   "name": "python",
   "nbconvert_exporter": "python",
   "pygments_lexer": "ipython3",
   "version": "3.6.10"
  }
 },
 "nbformat": 4,
 "nbformat_minor": 4
}
