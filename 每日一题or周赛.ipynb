{
 "cells": [
  {
   "cell_type": "markdown",
   "metadata": {},
   "source": [
    "## 5478. 最大得分\n",
    "---\n",
    "链接:[https://leetcode-cn.com/contest/weekly-contest-200/problems/get-the-maximum-score/](https://leetcode-cn.com/contest/weekly-contest-200/problems/get-the-maximum-score/)\n",
    "\n",
    "```\n",
    "两个有序且数组内元素互不相同的数组 nums1 和 nums2 。\n",
    "\n",
    "一条 合法路径 定义如下：\n",
    "1. 选择nums1 或 nums2 开始遍历（从下标 0 处开始）。从左到右遍历当前数组。\n",
    "2. 如果nums1nums2 中都存在值，可以切换路径到另一个数组对应数字处继续遍历（重复数字只会被统计一次）。\n",
    "3. 得分定义为合法路径中不同数字的和。返回最大得分。\n",
    "\n",
    "由于答案可能很大，请你将它对 10^9 + 7 取余后返回。\n",
    "```\n",
    "example:\n",
    "\n",
    "![photo](https://assets.leetcode-cn.com/aliyun-lc-upload/uploads/2020/08/02/sample_1_1893.png)\n",
    "```\n",
    "输入：nums1 = [2,4,5,8,10], nums2 = [4,6,8,9]\n",
    "输出：30\n",
    "解释：合法路径包括：\n",
    "[2,4,5,8,10], [2,4,5,8,9], [2,4,6,8,9], [2,4,6,8,10],（从 nums1 开始遍历）\n",
    "[4,6,8,9], [4,5,8,10], [4,5,8,9], [4,6,8,10]  （从 nums2 开始遍历）\n",
    "最大得分为上图中的绿色路径 [2,4,6,8,10] 。\n",
    "```\n",
    "### 代码\n",
    "```python\n",
    "class Solution:\n",
    "    def maxSum(self, nums1: List[int], nums2: List[int]) -> int:\n",
    "        t = []\n",
    "        for i in nums1:\n",
    "            t.append((i,0))\n",
    "        for i in nums2:\n",
    "            t.append((i,1))\n",
    "        t = sorted(t)\n",
    "        print(t)\n",
    "        n = len(t)\n",
    "        f = [0]*n\n",
    "        i = 0\n",
    "        fp = [0,0] #fp[0]存储遍历nums1最大值，fp[1]存储遍历nums2最大值\n",
    "        while i < n:\n",
    "            if i+1 < n and t[i][0] == t[i+1][0]:\n",
    "                fp = [max(fp) + t[i][0]]*2 #使fp[0]=fp[1]=max(fp)\n",
    "                i += 2\n",
    "            else:\n",
    "                fp[t[i][1]] += t[i][0] #根据t[][1]的值是0 or 1，存放入对应fp中，为了比较两条路径的最大值。\n",
    "                i += 1\n",
    "        return max(fp) % int(1e9 + 7)\n",
    "```"
   ]
  }
 ],
 "metadata": {
  "kernelspec": {
   "display_name": "Python 3",
   "language": "python",
   "name": "python3"
  },
  "language_info": {
   "codemirror_mode": {
    "name": "ipython",
    "version": 3
   },
   "file_extension": ".py",
   "mimetype": "text/x-python",
   "name": "python",
   "nbconvert_exporter": "python",
   "pygments_lexer": "ipython3",
   "version": "3.7.6"
  }
 },
 "nbformat": 4,
 "nbformat_minor": 4
}
